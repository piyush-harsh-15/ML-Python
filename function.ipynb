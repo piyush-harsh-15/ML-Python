{
 "cells": [
  {
   "cell_type": "code",
   "execution_count": 2,
   "id": "2c58fb06",
   "metadata": {},
   "outputs": [
    {
     "name": "stdout",
     "output_type": "stream",
     "text": [
      "Enter a number:9\n",
      "Enter another number14\n",
      "14\n"
     ]
    }
   ],
   "source": [
    "def large() :\n",
    "    x = input(\"Enter a number:\")\n",
    "    x = int(x)\n",
    "    y = int(input(\"Enter another number\"))\n",
    "    \n",
    "    if x>y :\n",
    "        return x\n",
    "    else :\n",
    "        return y\n",
    "    \n",
    "print(large())"
   ]
  },
  {
   "cell_type": "code",
   "execution_count": null,
   "id": "1e65ee8e",
   "metadata": {},
   "outputs": [],
   "source": []
  }
 ],
 "metadata": {
  "kernelspec": {
   "display_name": "Python 3",
   "language": "python",
   "name": "python3"
  },
  "language_info": {
   "codemirror_mode": {
    "name": "ipython",
    "version": 3
   },
   "file_extension": ".py",
   "mimetype": "text/x-python",
   "name": "python",
   "nbconvert_exporter": "python",
   "pygments_lexer": "ipython3",
   "version": "3.8.8"
  }
 },
 "nbformat": 4,
 "nbformat_minor": 5
}
