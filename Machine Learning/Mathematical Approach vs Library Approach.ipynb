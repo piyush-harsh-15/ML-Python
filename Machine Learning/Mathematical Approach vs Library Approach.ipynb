{
 "cells": [
  {
   "cell_type": "markdown",
   "id": "c3440772",
   "metadata": {},
   "source": [
    "# Linear Regression \n",
    "#### Mathematical Approach vs Library Approach"
   ]
  },
  {
   "cell_type": "markdown",
   "id": "a80589b4",
   "metadata": {},
   "source": [
    "Linear Regression is a part of supervised learning, so here we will be having labels and features. "
   ]
  },
  {
   "cell_type": "markdown",
   "id": "5825c434",
   "metadata": {},
   "source": [
    "x,X = Features (independent)\n",
    "y,Y = Labels (dependent) \n",
    "\n",
    "eg. Y = mX + C"
   ]
  },
  {
   "cell_type": "markdown",
   "id": "13f62f0c",
   "metadata": {},
   "source": [
    "### Mathematical Approach"
   ]
  },
  {
   "cell_type": "code",
   "execution_count": 3,
   "id": "61ec516d",
   "metadata": {},
   "outputs": [
    {
     "name": "stderr",
     "output_type": "stream",
     "text": [
      "Matplotlib is building the font cache; this may take a moment.\n"
     ]
    }
   ],
   "source": [
    "import numpy as np\n",
    "import matplotlib.pyplot as plt"
   ]
  },
  {
   "cell_type": "code",
   "execution_count": 4,
   "id": "b84e49c7",
   "metadata": {},
   "outputs": [],
   "source": [
    "X = np.array([2,4,16,5,8,19,11,23])\n",
    "Y = np.array([4,2.3,9.1,11,13,17,3,18])"
   ]
  },
  {
   "cell_type": "code",
   "execution_count": 5,
   "id": "f82f45a8",
   "metadata": {},
   "outputs": [
    {
     "data": {
      "image/png": "[encoded data removed]",
      "text/plain": [
       "<Figure size 432x288 with 1 Axes>"
      ]
     },
     "metadata": {
      "needs_background": "light"
     },
     "output_type": "display_data"
    }
   ],
   "source": [
    "plt.scatter(X,Y)\n",
    "plt.show()"
   ]
  },
  {
   "cell_type": "code",
   "execution_count": 6,
   "id": "fdc549e2",
   "metadata": {},
   "outputs": [],
   "source": [
    "Xmean = X.mean()\n",
    "Ymean = Y.mean()"
   ]
  },
  {
   "cell_type": "code",
   "execution_count": 7,
   "id": "1d6a3967",
   "metadata": {},
   "outputs": [
    {
     "data": {
      "text/plain": [
       "9.675"
      ]
     },
     "execution_count": 7,
     "metadata": {},
     "output_type": "execute_result"
    }
   ],
   "source": [
    "Ymean"
   ]
  },
  {
   "cell_type": "code",
   "execution_count": 11,
   "id": "3f134d49",
   "metadata": {},
   "outputs": [
    {
     "name": "stdout",
     "output_type": "stream",
     "text": [
      "0.5892156862745099\n",
      "3.193627450980392\n"
     ]
    }
   ],
   "source": [
    "num = 0 \n",
    "den = 0 \n",
    "\n",
    "for i in range(len(X)):\n",
    "    num += (X[i] - Xmean) * (Y[i] - Ymean)\n",
    "    den += (X[i] - Xmean) ** 2\n",
    "    \n",
    "m = num/den\n",
    "print(m)\n",
    "\n",
    "b = Ymean - m * Xmean\n",
    "print(b)"
   ]
  },
  {
   "cell_type": "code",
   "execution_count": 12,
   "id": "954ffeb4",
   "metadata": {},
   "outputs": [],
   "source": [
    "a = np.arange(2,24)\n",
    "d = m*a+b"
   ]
  },
  {
   "cell_type": "code",
   "execution_count": 13,
   "id": "dc9feedc",
   "metadata": {},
   "outputs": [
    {
     "data": {
      "image/png": "[encoded data removed]",
      "text/plain": [
       "<Figure size 432x288 with 1 Axes>"
      ]
     },
     "metadata": {
      "needs_background": "light"
     },
     "output_type": "display_data"
    }
   ],
   "source": [
    "plt.scatter(X,Y)\n",
    "plt.plot(a,d, color = 'y')\n",
    "plt.show()"
   ]
  },
  {
   "cell_type": "markdown",
   "id": "f38b8983",
   "metadata": {},
   "source": [
    "### Library Approach"
   ]
  },
  {
   "cell_type": "code",
   "execution_count": 15,
   "id": "c51dd1d6",
   "metadata": {},
   "outputs": [],
   "source": [
    "from sklearn.linear_model import LinearRegression"
   ]
  },
  {
   "cell_type": "code",
   "execution_count": 16,
   "id": "452ada2a",
   "metadata": {},
   "outputs": [],
   "source": [
    "model = LinearRegression()"
   ]
  },
  {
   "cell_type": "code",
   "execution_count": 17,
   "id": "8a909361",
   "metadata": {},
   "outputs": [
    {
     "data": {
      "text/plain": [
       "array([ 2,  4, 16,  5,  8, 19, 11, 23])"
      ]
     },
     "execution_count": 17,
     "metadata": {},
     "output_type": "execute_result"
    }
   ],
   "source": [
    "X"
   ]
  },
  {
   "cell_type": "code",
   "execution_count": 18,
   "id": "d18c3bd7",
   "metadata": {},
   "outputs": [
    {
     "data": {
      "text/plain": [
       "array([ 4. ,  2.3,  9.1, 11. , 13. , 17. ,  3. , 18. ])"
      ]
     },
     "execution_count": 18,
     "metadata": {},
     "output_type": "execute_result"
    }
   ],
   "source": [
    "Y"
   ]
  },
  {
   "cell_type": "code",
   "execution_count": 21,
   "id": "09ed34a7",
   "metadata": {},
   "outputs": [],
   "source": [
    "X = X.reshape(-1,1)\n",
    "Y = Y.reshape(-1,1)"
   ]
  },
  {
   "cell_type": "code",
   "execution_count": 22,
   "id": "69810a65",
   "metadata": {},
   "outputs": [
    {
     "data": {
      "text/plain": [
       "array([[ 2],\n",
       "       [ 4],\n",
       "       [16],\n",
       "       [ 5],\n",
       "       [ 8],\n",
       "       [19],\n",
       "       [11],\n",
       "       [23]])"
      ]
     },
     "execution_count": 22,
     "metadata": {},
     "output_type": "execute_result"
    }
   ],
   "source": [
    "X"
   ]
  },
  {
   "cell_type": "code",
   "execution_count": 23,
   "id": "30ae3f7a",
   "metadata": {},
   "outputs": [
    {
     "data": {
      "text/plain": [
       "array([[ 4. ],\n",
       "       [ 2.3],\n",
       "       [ 9.1],\n",
       "       [11. ],\n",
       "       [13. ],\n",
       "       [17. ],\n",
       "       [ 3. ],\n",
       "       [18. ]])"
      ]
     },
     "execution_count": 23,
     "metadata": {},
     "output_type": "execute_result"
    }
   ],
   "source": [
    "Y"
   ]
  },
  {
   "cell_type": "code",
   "execution_count": 24,
   "id": "534eff7e",
   "metadata": {},
   "outputs": [
    {
     "data": {
      "text/plain": [
       "LinearRegression()"
      ]
     },
     "execution_count": 24,
     "metadata": {},
     "output_type": "execute_result"
    }
   ],
   "source": [
    "model.fit(X,Y)"
   ]
  },
  {
   "cell_type": "code",
   "execution_count": 27,
   "id": "384e996c",
   "metadata": {},
   "outputs": [],
   "source": [
    "m = model.coef_[0]"
   ]
  },
  {
   "cell_type": "code",
   "execution_count": 28,
   "id": "5b9fb995",
   "metadata": {},
   "outputs": [],
   "source": [
    "b = model.intercept_[0]"
   ]
  },
  {
   "cell_type": "code",
   "execution_count": 30,
   "id": "a4f721f7",
   "metadata": {},
   "outputs": [],
   "source": [
    "a = np.arange(2,24)\n",
    "d = m*a + b"
   ]
  },
  {
   "cell_type": "code",
   "execution_count": 31,
   "id": "cbfc73c5",
   "metadata": {},
   "outputs": [
    {
     "data": {
      "image/png": "[encoded data removed]",
      "text/plain": [
       "<Figure size 432x288 with 1 Axes>"
      ]
     },
     "metadata": {
      "needs_background": "light"
     },
     "output_type": "display_data"
    }
   ],
   "source": [
    "plt.scatter(X,Y)\n",
    "plt.plot(a,d, color = 'g')\n",
    "plt.show()"
   ]
  },
  {
   "cell_type": "code",
   "execution_count": null,
   "id": "75498d90",
   "metadata": {},
   "outputs": [],
   "source": []
  }
 ],
 "metadata": {
  "kernelspec": {
   "display_name": "Python 3",
   "language": "python",
   "name": "python3"
  },
  "language_info": {
   "codemirror_mode": {
    "name": "ipython",
    "version": 3
   },
   "file_extension": ".py",
   "mimetype": "text/x-python",
   "name": "python",
   "nbconvert_exporter": "python",
   "pygments_lexer": "ipython3",
   "version": "3.8.8"
  }
 },
 "nbformat": 4,
 "nbformat_minor": 5
}
