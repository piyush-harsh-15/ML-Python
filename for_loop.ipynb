{
 "cells": [
  {
   "cell_type": "code",
   "execution_count": 2,
   "id": "55d46bcd",
   "metadata": {},
   "outputs": [
    {
     "name": "stdout",
     "output_type": "stream",
     "text": [
      "P!\n",
      "i!\n",
      "y!\n",
      "u!\n",
      "s!\n",
      "h!\n",
      " !\n",
      "H!\n",
      "a!\n",
      "r!\n",
      "s!\n",
      "h!\n"
     ]
    }
   ],
   "source": [
    "name = \"Piyush Harsh\"\n",
    "\n",
    "for i in name:\n",
    "    print(i +\"!\")"
   ]
  },
  {
   "cell_type": "code",
   "execution_count": 6,
   "id": "32c3adb6",
   "metadata": {
    "scrolled": true
   },
   "outputs": [
    {
     "name": "stdout",
     "output_type": "stream",
     "text": [
      "even\n",
      "odd\n",
      "even\n",
      "odd\n",
      "even\n",
      "odd\n",
      "even\n",
      "odd\n",
      "even\n",
      "odd\n",
      "even\n",
      "odd\n"
     ]
    }
   ],
   "source": [
    "for i in range(12):\n",
    "    if i%2 == 0 :\n",
    "        print(\"even\")\n",
    "    else :\n",
    "        print(\"odd\")\n"
   ]
  },
  {
   "cell_type": "code",
   "execution_count": 7,
   "id": "78fc4655",
   "metadata": {
    "scrolled": true
   },
   "outputs": [
    {
     "name": "stdout",
     "output_type": "stream",
     "text": [
      "even\n",
      "odd\n",
      "even\n",
      "odd\n",
      "even\n",
      "odd\n",
      "even\n",
      "odd\n",
      "even\n",
      "odd\n"
     ]
    }
   ],
   "source": [
    "for i in range(2, 12, 1):\n",
    "    if i%2 == 0 :\n",
    "        print(\"even\")\n",
    "    else :\n",
    "        print(\"odd\")\n",
    "    "
   ]
  },
  {
   "cell_type": "code",
   "execution_count": null,
   "id": "268ee022",
   "metadata": {},
   "outputs": [],
   "source": []
  }
 ],
 "metadata": {
  "kernelspec": {
   "display_name": "Python 3",
   "language": "python",
   "name": "python3"
  },
  "language_info": {
   "codemirror_mode": {
    "name": "ipython",
    "version": 3
   },
   "file_extension": ".py",
   "mimetype": "text/x-python",
   "name": "python",
   "nbconvert_exporter": "python",
   "pygments_lexer": "ipython3",
   "version": "3.8.8"
  }
 },
 "nbformat": 4,
 "nbformat_minor": 5
}
