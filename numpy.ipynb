{
 "cells": [
  {
   "cell_type": "markdown",
   "id": "84855aee",
   "metadata": {},
   "source": [
    "# Numpy\n",
    "##### We will work by importing numpy in this project"
   ]
  },
  {
   "cell_type": "code",
   "execution_count": 2,
   "id": "348f7cf1",
   "metadata": {},
   "outputs": [
    {
     "name": "stdout",
     "output_type": "stream",
     "text": [
      "(0, 1, 4, 9, 16, 25, 36)\n"
     ]
    }
   ],
   "source": [
    "import numpy as ph\n",
    "\n",
    "sqrt = (0,1,4,9,16,25,36)\n",
    "print(sqrt)"
   ]
  },
  {
   "cell_type": "code",
   "execution_count": 3,
   "id": "653b2ac9",
   "metadata": {},
   "outputs": [
    {
     "data": {
      "text/plain": [
       "9"
      ]
     },
     "execution_count": 3,
     "metadata": {},
     "output_type": "execute_result"
    }
   ],
   "source": [
    "sqrt[3]"
   ]
  },
  {
   "cell_type": "code",
   "execution_count": 4,
   "id": "2284d57b",
   "metadata": {},
   "outputs": [],
   "source": [
    "a = ph.arange(15).reshape(3,5)"
   ]
  },
  {
   "cell_type": "code",
   "execution_count": 5,
   "id": "351a4b1c",
   "metadata": {},
   "outputs": [
    {
     "name": "stdout",
     "output_type": "stream",
     "text": [
      "[[ 0  1  2  3  4]\n",
      " [ 5  6  7  8  9]\n",
      " [10 11 12 13 14]]\n"
     ]
    }
   ],
   "source": [
    "print(a)"
   ]
  },
  {
   "cell_type": "code",
   "execution_count": null,
   "id": "69c76c0c",
   "metadata": {},
   "outputs": [],
   "source": []
  }
 ],
 "metadata": {
  "kernelspec": {
   "display_name": "Python 3",
   "language": "python",
   "name": "python3"
  },
  "language_info": {
   "codemirror_mode": {
    "name": "ipython",
    "version": 3
   },
   "file_extension": ".py",
   "mimetype": "text/x-python",
   "name": "python",
   "nbconvert_exporter": "python",
   "pygments_lexer": "ipython3",
   "version": "3.8.8"
  }
 },
 "nbformat": 4,
 "nbformat_minor": 5
}
