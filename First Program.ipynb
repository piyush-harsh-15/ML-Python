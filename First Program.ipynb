{
 "cells": [
  {
   "cell_type": "markdown",
   "id": "b875c99c",
   "metadata": {},
   "source": [
    "# First Program"
   ]
  },
  {
   "cell_type": "code",
   "execution_count": 2,
   "id": "3368cfbf",
   "metadata": {},
   "outputs": [
    {
     "name": "stdout",
     "output_type": "stream",
     "text": [
      "Hello World!\n"
     ]
    }
   ],
   "source": [
    "print('Hello World!')"
   ]
  },
  {
   "cell_type": "code",
   "execution_count": 3,
   "id": "26ddbf06",
   "metadata": {},
   "outputs": [
    {
     "name": "stdout",
     "output_type": "stream",
     "text": [
      "print anything\n"
     ]
    }
   ],
   "source": [
    "print('print anything')"
   ]
  },
  {
   "cell_type": "code",
   "execution_count": 6,
   "id": "d3f2c4da",
   "metadata": {},
   "outputs": [
    {
     "data": {
      "text/plain": [
       "3.1467"
      ]
     },
     "execution_count": 6,
     "metadata": {},
     "output_type": "execute_result"
    }
   ],
   "source": [
    "x = 3.1467\n",
    "x"
   ]
  },
  {
   "cell_type": "code",
   "execution_count": 7,
   "id": "054fe3a5",
   "metadata": {},
   "outputs": [
    {
     "data": {
      "text/plain": [
       "float"
      ]
     },
     "execution_count": 7,
     "metadata": {},
     "output_type": "execute_result"
    }
   ],
   "source": [
    "type(x)\n",
    "\n",
    "# type() is used for checking the data type of any data types"
   ]
  },
  {
   "cell_type": "markdown",
   "id": "0d43b823",
   "metadata": {},
   "source": [
    "# Operations with Strings"
   ]
  },
  {
   "cell_type": "code",
   "execution_count": null,
   "id": "b1d6663d",
   "metadata": {},
   "outputs": [],
   "source": []
  }
 ],
 "metadata": {
  "kernelspec": {
   "display_name": "Python 3",
   "language": "python",
   "name": "python3"
  },
  "language_info": {
   "codemirror_mode": {
    "name": "ipython",
    "version": 3
   },
   "file_extension": ".py",
   "mimetype": "text/x-python",
   "name": "python",
   "nbconvert_exporter": "python",
   "pygments_lexer": "ipython3",
   "version": "3.8.8"
  }
 },
 "nbformat": 4,
 "nbformat_minor": 5
}
